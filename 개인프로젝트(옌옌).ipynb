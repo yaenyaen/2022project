{
  "nbformat": 4,
  "nbformat_minor": 0,
  "metadata": {
    "colab": {
      "name": "개인프로젝트(옌옌)",
      "provenance": [],
      "authorship_tag": "ABX9TyM6RuN97yF5SUNaOZ0xyOr1",
      "include_colab_link": true
    },
    "kernelspec": {
      "name": "python3",
      "display_name": "Python 3"
    },
    "language_info": {
      "name": "python"
    }
  },
  "cells": [
    {
      "cell_type": "markdown",
      "metadata": {
        "id": "view-in-github",
        "colab_type": "text"
      },
      "source": [
        "<a href=\"https://colab.research.google.com/github/yaenyaen/2022project/blob/main/%EA%B0%9C%EC%9D%B8%ED%94%84%EB%A1%9C%EC%A0%9D%ED%8A%B8(%EC%98%8C%EC%98%8C).ipynb\" target=\"_parent\"><img src=\"https://colab.research.google.com/assets/colab-badge.svg\" alt=\"Open In Colab\"/></a>"
      ]
    },
    {
      "cell_type": "markdown",
      "source": [
        "# 5,6주차 프로젝트\n",
        "## 1) 프로젝트 주제 : 학생 신용등급 자동 계산 프로그램\n",
        "## 2) 학급에서 실제로 활용할 수 있는 프로그램을 만들고 싶었음. 현재 경제교실을 운영 중 인데, 그 중 숙제로 신용포인트를 쌓는 신용등급을 매번 신용등급관리위원회가 계산하는 과정에서 오류가 생기는 문제가 발생. 자동 계산을 하는 프로그램이 있으면 활용할 수 있을 것 같아 이 프로젝트를 하게 되었음."
      ],
      "metadata": {
        "id": "A0Oa0dKiwp5t"
      }
    },
    {
      "cell_type": "code",
      "execution_count": 2,
      "metadata": {
        "id": "oj68ovw5bKQs",
        "colab": {
          "base_uri": "https://localhost:8080/"
        },
        "outputId": "e0de5f3d-e9d6-4ef2-fcce-fb250d03c9de"
      },
      "outputs": [
        {
          "output_type": "stream",
          "name": "stdout",
          "text": [
            "Cloning into 'my-data'...\n",
            "remote: Enumerating objects: 12, done.\u001b[K\n",
            "remote: Counting objects: 100% (12/12), done.\u001b[K\n",
            "remote: Compressing objects: 100% (8/8), done.\u001b[K\n",
            "remote: Total 12 (delta 1), reused 0 (delta 0), pack-reused 0\u001b[K\n",
            "Unpacking objects: 100% (12/12), done.\n"
          ]
        }
      ],
      "source": [
        "# 데이터 불러오기\n",
        "!git clone https://github.com/yaenyaen/my-data"
      ]
    },
    {
      "cell_type": "code",
      "source": [
        "ls"
      ],
      "metadata": {
        "id": "FTFJzsCDeJ-P",
        "colab": {
          "base_uri": "https://localhost:8080/"
        },
        "outputId": "91a235e5-7a5a-4e96-c614-6223f2d1d141"
      },
      "execution_count": 3,
      "outputs": [
        {
          "output_type": "stream",
          "name": "stdout",
          "text": [
            "\u001b[0m\u001b[01;34mmy-data\u001b[0m/  \u001b[01;34msample_data\u001b[0m/\n"
          ]
        }
      ]
    },
    {
      "cell_type": "code",
      "source": [
        "cd my-data"
      ],
      "metadata": {
        "colab": {
          "base_uri": "https://localhost:8080/"
        },
        "id": "ki7TgaGkphI3",
        "outputId": "7962eaa1-2f16-45bb-fbc1-c341a55e6779"
      },
      "execution_count": 4,
      "outputs": [
        {
          "output_type": "stream",
          "name": "stdout",
          "text": [
            "/content/my-data\n"
          ]
        }
      ]
    },
    {
      "cell_type": "code",
      "source": [
        "ls"
      ],
      "metadata": {
        "colab": {
          "base_uri": "https://localhost:8080/"
        },
        "id": "rpBTbEhYpqEP",
        "outputId": "30530de6-0320-4984-aa9c-0a728e464c86"
      },
      "execution_count": 5,
      "outputs": [
        {
          "output_type": "stream",
          "name": "stdout",
          "text": [
            "우리반신용등급관리표.csv  README.md\n"
          ]
        }
      ]
    },
    {
      "cell_type": "code",
      "source": [
        "#딕셔너리로 풀어보기\n",
        "#딕셔너리로 이름과 점수가 짝지어져있고, 이름 입력하면 나오는 점수값이 어떤지에 따라 결과값을 출력해줌\n",
        "import csv\n",
        "data = csv.reader(open('우리반신용등급관리표.csv'))\n",
        "next(data)\n",
        "\n",
        "name = []\n",
        "score = []\n",
        "\n",
        "for row in data :\n",
        "  name.append(row[0])\n",
        "  score.append(row[1])\n",
        "  \n",
        "  dictionary = dict(zip(name, score))\n",
        "\n",
        "student = input('이름을 입력하세요 : ')\n",
        "\n",
        "if student in dictionary : \n",
        "  x = int(dictionary[student])\n",
        "\n",
        "  if x < 10 :\n",
        "    print(student+'님은 9등급입니다')\n",
        "  elif x >= 10 and x < 20 :\n",
        "    print(student+'님은 8등급입니다')\n",
        "  elif x >= 20 and x < 30 : \n",
        "    print(student+'님은 7등급입니다')\n",
        "  elif x >= 40 and x < 50 :\n",
        "    print(student+'님은 6등급입니다')\n",
        "  elif x >= 50 and x < 60 : \n",
        "    print(student+'님은 5등급입니다')\n",
        "  elif x >= 60 and x < 70 :\n",
        "    print(student+'님은 4등급입니다')\n",
        "  elif x >= 70 and x < 80 : \n",
        "    print(student+'님은 3등급입니다')\n",
        "  elif x >= 80 and x < 90 :\n",
        "    print(student+'님은 2등급입니다')\n",
        "  elif x >= 90 : \n",
        "    print('참잘했어요:)'+student+'님은 1등급입니다')\n",
        "\n",
        "else :\n",
        "  print('다시 입력해주세요')\n",
        "  "
      ],
      "metadata": {
        "id": "PjdPRMBPqmaL",
        "colab": {
          "base_uri": "https://localhost:8080/"
        },
        "outputId": "9c361bcc-45a2-4ece-fa3b-c385b1f8c69b"
      },
      "execution_count": 38,
      "outputs": [
        {
          "output_type": "stream",
          "name": "stdout",
          "text": [
            "이름을 입력하세요 : 송현민\n",
            "송현민님은 4등급입니다\n"
          ]
        }
      ]
    },
    {
      "cell_type": "code",
      "source": [
        ""
      ],
      "metadata": {
        "id": "Vtpw3eCfnioc"
      },
      "execution_count": null,
      "outputs": []
    }
  ]
}